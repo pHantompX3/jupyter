{
 "cells": [
  {
   "cell_type": "markdown",
   "metadata": {},
   "source": [
    "# Introduction to Jupyter Notebook\n",
    "\n",
    "\n",
    "Welcome to to the wonderful world of jupyter notebook. It is a \"neat-o-rific\" way of performing calculations and presenting results for scientists the world over!\n",
    "\n",
    "\n",
    "Click on this \"cell\" to select it, then press Ctrl+Enter to \"run\" this cell.\n",
    "\n",
    "- - -\n"
   ]
  },
  {
   "cell_type": "markdown",
   "metadata": {},
   "source": [
    "# Types of Cells\n",
    "\n",
    "## 1. Markdown \n",
    "\n",
    "### 1.1 The Basics\n",
    "\n",
    "+ This is similar (in principle) to markup (i.e. HTML)\n",
    "\n",
    "+ Basic syntax (and only basic formatting) \n",
    "\n",
    "    - **Bold** text is enclosed between a pair of \\*\\*\n",
    "\n",
    "    - *Italic* text is enclosed between a pair of \\*\n",
    "    \n",
    "    - Unordered lists start with a + or - (and can be nested, just use 4 or more spaces in front)\n",
    "    \n",
    "    - Links in parenthesis ( )\n",
    "    \n",
    "    \n",
    "For more details see the [Github markdown reference](https://github.com/adam-p/markdown-here/wiki/Markdown-Cheatsheet)\n",
    "\n",
    "<!-- This is a markdown cell comment. It will not show when this cell is run -->   \n",
    "   \n",
    "\n",
    "\n"
   ]
  },
  {
   "cell_type": "markdown",
   "metadata": {},
   "source": [
    "### 1.2 Tables \n",
    "\n",
    "A simple table\n",
    "\n",
    "\n",
    "|   Input size    |  Comparison Count  |\n",
    "| :-------------: |:------------------:| \n",
    "|  100            |   205   |\n",
    "|  200            |  1800 |\n",
    "|  300            |  3200 |\n",
    "\n"
   ]
  },
  {
   "cell_type": "markdown",
   "metadata": {},
   "source": [
    "### 1.3 Source code\n",
    "\n",
    "\n",
    "Code may be written \"inline\" by enclosing it within a pair of backticks \\`\n",
    "\n",
    "This is useful for small segments, like refering to the function `int SortAnalysis(auto)`.\n",
    "\n",
    "\n",
    "- - -\n",
    "\n",
    "Longer code segments should be \"fenced\" above and below with three \\`\\`\\`\n",
    "\n",
    "For C++ we put the name of the language after the first fence (like \\`\\`\\`c++)\n",
    "\n",
    "\n",
    " \n",
    "   ```c++\n",
    "\n",
    "   class Heap\n",
    "   {\n",
    "   \n",
    "     private:\n",
    "        vector<int> data = {};\n",
    "     \n",
    "     public:\n",
    "         void insert(int);\n",
    "         void heapifyDown(int);\n",
    "         int deleteMin();\n",
    "    };\n",
    "    \n",
    "    int main()\n",
    "    {\n",
    "       Heap pqueue; \n",
    "       \n",
    "       auto x = 13.75;\n",
    "       \n",
    "       for (auto z: {10, 14, 8, 12, 7, 20, 17})\n",
    "       {\n",
    "          pqueue.insert(z);\n",
    "       }\n",
    "       \n",
    "     }\n",
    "```     "
   ]
  },
  {
   "cell_type": "markdown",
   "metadata": {},
   "source": [
    "### 1.4 Math\n",
    "\n",
    "   \n",
    "Inline math can be written within a pair of \\$ symbols \\$. For example:\n",
    "\n",
    "Algorithm `XYZ` is **clearly** $\\Theta(n^2)$ in the worst case.\n",
    "\n",
    "+ \\leq , \\geq for $\\leq$ , $\\geq$\n",
    "\n",
    "</br> <!-- Yup, regular HTML also works -->\n",
    "\n",
    "+ \\log n for $\\log n$\n",
    "\n",
    "</br>\n",
    "\n",
    "+ \\sqrt{n+5} for $\\sqrt{n+5}$\n",
    "\n",
    "</br>\n",
    "\n",
    "+ ^{} for superscript (powers) \n",
    "    - As an example $2^{2n}$\n",
    "\n",
    "</br>\n",
    "\n",
    "+ _{} for subscript \n",
    "    - As an example $\\log_{2}n$\n",
    "\n",
    "</br>\n",
    "\n",
    "+ \\Theta, \\Omega, O for $\\Theta$, $\\Omega$, and $O$\n",
    "\n",
    "- - -\n",
    "\n",
    "For math to be \"set apart\", it is enclosed in double \\$\\$.   \n",
    "\n",
    "For example \\$\\$ 2x \\over \\log(n^2) \\$\\$ will render as ...\n",
    "   \n",
    "   $$  2x \\over \\log(n^2)$$\n",
    "   \n",
    "- - -\n",
    "\n",
    "Try writing some of your solutions to **§ 2.1 Q9** below\n",
    "\n",
    "1. The function $n(n + 1)$ has a the same order of growth as $ 2000n^2 $\n",
    "\n",
    "2. The function ... has a larger/smaller order of growth than ...\n",
    "\n"
   ]
  },
  {
   "cell_type": "markdown",
   "metadata": {},
   "source": [
    "## 2. Code cells\n",
    "\n",
    "These cells have the text **In[ ]** next to them and basically support *python* code directly\n",
    "\n",
    "When executed, you will see the text **Out[ ]** immediately below the corresponding input cell"
   ]
  },
  {
   "cell_type": "code",
   "execution_count": 3,
   "metadata": {},
   "outputs": [
    {
     "name": "stdout",
     "output_type": "stream",
     "text": [
      "Hello jupyter\n",
      "\n",
      "-from python-\n",
      "\n",
      "\n",
      "11\n"
     ]
    }
   ],
   "source": [
    "# Code comments start with a '#\n",
    "# python code\n",
    "\n",
    "a = 5\n",
    "b = 6\n",
    "\n",
    "print('Hello jupyter\\n\\n-from python-\\n\\n') \n",
    "\n",
    "print(a+b)"
   ]
  },
  {
   "cell_type": "markdown",
   "metadata": {},
   "source": [
    "### 2.1 Code Table\n",
    "\n",
    "This is a more useful way of showing your data in tabular format if your data is in a `csv` file\n",
    "\n",
    "First, we need to import required libraries\n"
   ]
  },
  {
   "cell_type": "code",
   "execution_count": null,
   "metadata": {},
   "outputs": [],
   "source": [
    "# For plotting and other good stuff\n",
    "\n",
    "import matplotlib.pyplot as plt  # Used for plotting\n",
    "import numpy as np               # Extra features\n",
    "import pandas as pd              # More, extra features "
   ]
  },
  {
   "cell_type": "markdown",
   "metadata": {},
   "source": [
    "**NEXT**: Read the `csv` data from a file called `data.csv` (in the current folder)"
   ]
  },
  {
   "cell_type": "code",
   "execution_count": null,
   "metadata": {},
   "outputs": [],
   "source": [
    "df = pd.read_csv('data.csv', index_col='Size') # This cell does not output anything when run (see below)\n",
    "                                               # The data is stored in the object called df"
   ]
  },
  {
   "cell_type": "code",
   "execution_count": null,
   "metadata": {},
   "outputs": [],
   "source": [
    "print(df)  # print df as plain text table"
   ]
  },
  {
   "cell_type": "code",
   "execution_count": null,
   "metadata": {},
   "outputs": [],
   "source": [
    "df  # print df as pretty  table"
   ]
  },
  {
   "cell_type": "markdown",
   "metadata": {},
   "source": [
    "### 2.1 Plotting graphs"
   ]
  },
  {
   "cell_type": "code",
   "execution_count": null,
   "metadata": {},
   "outputs": [],
   "source": [
    "plt_x = [x for x in df.index ]                      # prepare data for x axis\n",
    "plt_y = [df.loc[y].mean(axis=0) for y in plt_x]     # prepare data for y axis"
   ]
  },
  {
   "cell_type": "code",
   "execution_count": null,
   "metadata": {},
   "outputs": [],
   "source": [
    "print('X axis data')\n",
    "print (plt_x)\n",
    "print('\\n\\nY axis data')\n",
    "print(plt_y)"
   ]
  },
  {
   "cell_type": "code",
   "execution_count": null,
   "metadata": {},
   "outputs": [],
   "source": [
    "fig = plt.figure(figsize=(12,8))\n",
    "axes = fig.add_subplot(111) # 111 means working with one chart (whatever that means!!)\n",
    "\n",
    "axes.plot(plt_x,plt_y)\n",
    "axes.set_title('SortAnalysis Count Data')\n",
    "axes.set_xlabel('Input size $n$')\n",
    "axes.set_ylabel('Count')\n",
    "plt.show()"
   ]
  },
  {
   "cell_type": "markdown",
   "metadata": {},
   "source": [
    "### Comparing plots \n",
    "\n",
    "\n",
    "1. Generate linear and quadratic y values (based on the original `plt_x` data)\n",
    "2. Plot all data on the same figure"
   ]
  },
  {
   "cell_type": "code",
   "execution_count": null,
   "metadata": {},
   "outputs": [],
   "source": [
    "linear_y = plt_x                       # every y value is the same as every x value in plt_x\n",
    "quadratic_y = [y*y for y in plt_x]     # the square of every x value in plt_x \n",
    "cubic_y = [y*y*y for y in plt_x]"
   ]
  },
  {
   "cell_type": "code",
   "execution_count": null,
   "metadata": {},
   "outputs": [],
   "source": [
    "fig2 = plt.figure(figsize=(12,8))\n",
    "axes = fig2.add_subplot(111) # 111 means working with one chart (whatever that means!!)\n",
    "\n",
    "axes.plot(plt_x, linear_y, label = '$n$')  #added labels to each plot\n",
    "axes.plot(plt_x, quadratic_y, label = '$n^2$')\n",
    "axes.plot(plt_x, cubic_y,  label = '$n^3$')\n",
    "# Place a legend to the right of this smaller subplot.\n",
    "plt.legend(bbox_to_anchor=(1.05, 1), loc=2, borderaxespad=0.)\n",
    "\n",
    "axes.set_title('Comparison Plot')\n",
    "axes.set_xlabel('Input size $n$')\n",
    "axes.set_ylabel('Count')\n",
    "#plt.show()              # What??? This line isn't needed???????\n"
   ]
  }
 ],
 "metadata": {
  "kernelspec": {
   "display_name": "Python 3",
   "language": "python",
   "name": "python3"
  },
  "language_info": {
   "codemirror_mode": {
    "name": "ipython",
    "version": 3
   },
   "file_extension": ".py",
   "mimetype": "text/x-python",
   "name": "python",
   "nbconvert_exporter": "python",
   "pygments_lexer": "ipython3",
   "version": "3.6.5"
  }
 },
 "nbformat": 4,
 "nbformat_minor": 2
}
